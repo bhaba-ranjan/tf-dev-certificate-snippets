{
 "cells": [
  {
   "cell_type": "code",
   "execution_count": 3,
   "metadata": {
    "pycharm": {
     "name": "#%%\n"
    }
   },
   "outputs": [],
   "source": [
    "import numpy as np\n",
    "import tensorflow as tf\n",
    "import os \n",
    "import csv\n",
    "import pandas as pd\n",
    "from sklearn.model_selection import train_test_split\n",
    "import matplotlib.pyplot as plt"
   ]
  },
  {
   "cell_type": "code",
   "execution_count": 10,
   "metadata": {
    "pycharm": {
     "name": "#%%\n"
    }
   },
   "outputs": [],
   "source": [
    "def parse_data_from_csv(file_path, reshape = (None, None)):\n",
    "\n",
    "  with open(file_path) as file:\n",
    "    ### START CODE HERE\n",
    "\n",
    "    # Use csv.reader, passing in the appropriate delimiter\n",
    "    # Remember that csv.reader can be iterated and returns one line in each iteration\n",
    "    labels = []\n",
    "    images = []\n",
    "    csv_reader = csv.reader(file, delimiter='\\n')\n",
    "    counter = 1\n",
    "    for row in csv_reader:      \n",
    "      if counter != 1:\n",
    "        row = np.array(row[0].split(','))\n",
    "        labels.append(row[0])\n",
    "        images.append(np.array(row[1:], dtype=np.float64).reshape(28,28)) \n",
    "      counter += 1\n",
    "\n",
    "    labels = np.array(labels, dtype = np.float32)\n",
    "    images = np.array(images, dtype = np.float64)\n",
    "    \n",
    "    ### END CODE HERE\n",
    "\n",
    "    return images, labels"
   ]
  },
  {
   "cell_type": "code",
   "execution_count": 11,
   "metadata": {
    "pycharm": {
     "name": "#%%\n"
    }
   },
   "outputs": [],
   "source": [
    "def split_dataset(images, labels, train_split = 0.75, shuffle = True):\n",
    "    train_images, train_labels,  validation_images, validation_labels = train_test_split(images, labels , train_size= train_split, stratify=labels, shuffle=True)\n",
    "    return train_images, train_labels,  validation_images, validation_labels"
   ]
  },
  {
   "cell_type": "code",
   "execution_count": 12,
   "metadata": {
    "pycharm": {
     "name": "#%%\n"
    }
   },
   "outputs": [],
   "source": [
    "def expand_dimension( collection , axis):\n",
    "    return np.expand_dims( collection , axis=axis)"
   ]
  },
  {
   "cell_type": "code",
   "execution_count": 13,
   "metadata": {
    "pycharm": {
     "name": "#%%\n"
    }
   },
   "outputs": [],
   "source": [
    "def show_first_X_images(image_collection, number_of_images_to_show, random = False, cmap = 'gray' , figsize = (None, None)):\n",
    "    \n",
    "    fig, ax = plt.subplots(number_of_images_to_show, figsize = figsize)\n",
    "    indexes = range(number_of_images_to_show)\n",
    "    \n",
    "    if random == True:\n",
    "        indexes = np.random.randint(low=0, high=image_collection.shape[0]-1, size=number_of_images_to_show)\n",
    "\n",
    "    for index, image_index in enumerate(indexes):\n",
    "        img = image_collection[image_index, :]\n",
    "            \n",
    "        ax[index].imshow(img, cmap = cmap)"
   ]
  },
  {
   "cell_type": "code",
   "execution_count": 24,
   "outputs": [],
   "source": [
    "def print_classes_lables(collection):\n",
    "    element, count = np.unique( collection, return_counts=True)\n",
    "    print(f'unique classes: {element} \\n frequency: {count}\\n')"
   ],
   "metadata": {
    "collapsed": false,
    "pycharm": {
     "name": "#%%\n"
    }
   }
  },
  {
   "cell_type": "code",
   "execution_count": 19,
   "metadata": {
    "pycharm": {
     "name": "#%%\n"
    }
   },
   "outputs": [
    {
     "name": "stdout",
     "output_type": "stream",
     "text": [
      "labels shape: (60000,)\n",
      "images shape: (60000, 28, 28)\n"
     ]
    }
   ],
   "source": [
    "images,  labels =  parse_data_from_csv('../datasets/Fashion-MNIST/fashion-mnist_train.csv')\n",
    "print(f'labels shape: {labels.shape}')\n",
    "print(f'images shape: {images.shape}')"
   ]
  },
  {
   "cell_type": "code",
   "execution_count": 21,
   "metadata": {
    "pycharm": {
     "name": "#%%\n"
    }
   },
   "outputs": [],
   "source": [
    "train_x, val_x, train_y, val_y = split_dataset(images=images, \n",
    "                                                labels=labels, \n",
    "                                                train_split=0.75, \n",
    "                                                shuffle=True)"
   ]
  },
  {
   "cell_type": "code",
   "execution_count": 25,
   "metadata": {
    "pycharm": {
     "name": "#%%\n"
    }
   },
   "outputs": [
    {
     "name": "stdout",
     "output_type": "stream",
     "text": [
      " train images: (45000, 28, 28)\n",
      " train lables: (45000,)\n",
      "unique classes: [0. 1. 2. 3. 4. 5. 6. 7. 8. 9.] \n",
      " frequency: [4500 4500 4500 4500 4500 4500 4500 4500 4500 4500]\n",
      "\n",
      " val images: (15000, 28, 28)\n",
      " val lables: (15000,)\n",
      "unique classes: [0. 1. 2. 3. 4. 5. 6. 7. 8. 9.] \n",
      " frequency: [1500 1500 1500 1500 1500 1500 1500 1500 1500 1500]\n",
      "\n"
     ]
    }
   ],
   "source": [
    "print(f' train images: {train_x.shape}')\n",
    "print(f' train lables: {train_y.shape}')\n",
    "print_classes_lables(train_y)\n",
    "\n",
    "\n",
    "print(f' val images: {val_x.shape}')\n",
    "print(f' val lables: {val_y.shape}')\n",
    "print_classes_lables(val_y)"
   ]
  },
  {
   "cell_type": "code",
   "execution_count": 26,
   "metadata": {
    "pycharm": {
     "name": "#%%\n"
    }
   },
   "outputs": [
    {
     "data": {
      "text/plain": "<Figure size 2800x2800 with 10 Axes>",
      "image/png": "[encoded data removed]"
     },
     "metadata": {},
     "output_type": "display_data"
    }
   ],
   "source": [
    "show_first_X_images( image_collection=train_x, number_of_images_to_show=10, figsize = (28, 28) , cmap='gray' )"
   ]
  },
  {
   "cell_type": "code",
   "execution_count": 27,
   "metadata": {
    "pycharm": {
     "name": "#%%\n"
    }
   },
   "outputs": [
    {
     "name": "stdout",
     "output_type": "stream",
     "text": [
      " train images: (45000, 28, 28, 1)\n",
      " val images: (15000, 28, 28, 1)\n"
     ]
    }
   ],
   "source": [
    "train_x = expand_dimension(train_x, axis=3)\n",
    "val_x = expand_dimension(val_x, axis=3)\n",
    "\n",
    "print(f' train images: {train_x.shape}')\n",
    "print(f' val images: {val_x.shape}')"
   ]
  },
  {
   "cell_type": "code",
   "execution_count": 28,
   "metadata": {
    "pycharm": {
     "name": "#%%\n"
    }
   },
   "outputs": [],
   "source": [
    "train_img_gen = tf.keras.preprocessing.image.ImageDataGenerator(rescale=1.0/255,\n",
    "                                                                horizontal_flip=True,\n",
    "                                                                vertical_flip=False,                                                                \n",
    "                                                                width_shift_range=0.3,\n",
    "                                                                fill_mode='nearest')\n",
    "\n",
    "validation_img_gen = tf.keras.preprocessing.image.ImageDataGenerator(rescale=1.0/255)"
   ]
  },
  {
   "cell_type": "code",
   "execution_count": 29,
   "metadata": {
    "pycharm": {
     "name": "#%%\n"
    }
   },
   "outputs": [],
   "source": [
    "train_images = train_img_gen.flow(x=train_x,\n",
    "                                  y=train_y,                                \n",
    "                                  batch_size=16)\n",
    "\n",
    "validation_images = validation_img_gen.flow(x = val_x,\n",
    "                                            y = val_y,\n",
    "                                            batch_size=16)"
   ]
  },
  {
   "cell_type": "code",
   "execution_count": 42,
   "metadata": {
    "pycharm": {
     "name": "#%%\n"
    }
   },
   "outputs": [
    {
     "name": "stderr",
     "output_type": "stream",
     "text": [
      "WARNING:absl:At this time, the v2.11+ optimizer `tf.keras.optimizers.Adam` runs slowly on M1/M2 Macs, please use the legacy Keras optimizer instead, located at `tf.keras.optimizers.legacy.Adam`.\n",
      "WARNING:absl:`lr` is deprecated in Keras optimizer, please use `learning_rate` or use the legacy optimizer, e.g.,tf.keras.optimizers.legacy.Adam.\n",
      "WARNING:absl:There is a known slowdown when using v2.11+ Keras optimizers on M1/M2 Macs. Falling back to the legacy Keras optimizer, i.e., `tf.keras.optimizers.legacy.Adam`.\n"
     ]
    }
   ],
   "source": [
    "model = tf.keras.models.Sequential([ \n",
    "      tf.keras.layers.Conv2D(16,5, activation='relu', input_shape=(28,28,1) ),\n",
    "      tf.keras.layers.MaxPool2D(2,2),\n",
    "      tf.keras.layers.Conv2D(32,3,activation='relu'),\n",
    "      tf.keras.layers.MaxPool2D(2,2),\n",
    "      tf.keras.layers.Conv2D(64,1,activation='relu'),\n",
    "      tf.keras.layers.MaxPool2D(2,2),\n",
    "      tf.keras.layers.Flatten(),\n",
    "      tf.keras.layers.Dense(512, activation='relu'),\n",
    "      tf.keras.layers.Dense(10, activation='softmax')\n",
    "  ])\n",
    "\n",
    "loss = tf.keras.losses.SparseCategoricalCrossentropy()\n",
    "optimiser = tf.keras.optimizers.Adam(lr=0.01)\n",
    "\n",
    "model.compile(loss=loss, optimizer=optimiser, metrics=['accuracy'])"
   ]
  },
  {
   "cell_type": "code",
   "execution_count": 43,
   "metadata": {
    "pycharm": {
     "name": "#%%\n"
    }
   },
   "outputs": [
    {
     "name": "stdout",
     "output_type": "stream",
     "text": [
      "Epoch 1/20\n"
     ]
    },
    {
     "name": "stderr",
     "output_type": "stream",
     "text": [
      "2023-06-24 20:06:29.810443: I tensorflow/core/common_runtime/executor.cc:1210] [/device:CPU:0] (DEBUG INFO) Executor start aborting (this does not indicate an error and you can ignore this message): INVALID_ARGUMENT: You must feed a value for placeholder tensor 'Placeholder/_0' with dtype int32\n",
      "\t [[{{node Placeholder/_0}}]]\n",
      "2023-06-24 20:06:29.963049: I tensorflow/core/grappler/optimizers/custom_graph_optimizer_registry.cc:114] Plugin optimizer for device_type GPU is enabled.\n"
     ]
    },
    {
     "name": "stdout",
     "output_type": "stream",
     "text": [
      "2807/2813 [============================>.] - ETA: 0s - loss: 0.7613 - accuracy: 0.7127"
     ]
    },
    {
     "name": "stderr",
     "output_type": "stream",
     "text": [
      "2023-06-24 20:06:52.434161: I tensorflow/core/common_runtime/executor.cc:1210] [/device:CPU:0] (DEBUG INFO) Executor start aborting (this does not indicate an error and you can ignore this message): INVALID_ARGUMENT: You must feed a value for placeholder tensor 'Placeholder/_0' with dtype int32\n",
      "\t [[{{node Placeholder/_0}}]]\n",
      "2023-06-24 20:06:52.468461: I tensorflow/core/grappler/optimizers/custom_graph_optimizer_registry.cc:114] Plugin optimizer for device_type GPU is enabled.\n"
     ]
    },
    {
     "name": "stdout",
     "output_type": "stream",
     "text": [
      "2813/2813 [==============================] - 26s 9ms/step - loss: 0.7613 - accuracy: 0.7128 - val_loss: 0.5646 - val_accuracy: 0.7717\n",
      "Epoch 2/20\n",
      "2813/2813 [==============================] - 25s 9ms/step - loss: 0.5515 - accuracy: 0.7898 - val_loss: 0.4857 - val_accuracy: 0.8223\n",
      "Epoch 3/20\n",
      "2813/2813 [==============================] - 25s 9ms/step - loss: 0.4961 - accuracy: 0.8100 - val_loss: 0.4429 - val_accuracy: 0.8373\n",
      "Epoch 4/20\n",
      "2813/2813 [==============================] - 26s 9ms/step - loss: 0.4654 - accuracy: 0.8218 - val_loss: 0.4375 - val_accuracy: 0.8362\n",
      "Epoch 5/20\n",
      "2813/2813 [==============================] - 25s 9ms/step - loss: 0.4398 - accuracy: 0.8325 - val_loss: 0.4357 - val_accuracy: 0.8358\n",
      "Epoch 6/20\n",
      "2813/2813 [==============================] - 25s 9ms/step - loss: 0.4284 - accuracy: 0.8373 - val_loss: 0.4484 - val_accuracy: 0.8267\n",
      "Epoch 7/20\n",
      "2813/2813 [==============================] - 25s 9ms/step - loss: 0.4131 - accuracy: 0.8442 - val_loss: 0.4242 - val_accuracy: 0.8392\n",
      "Epoch 8/20\n",
      "2813/2813 [==============================] - 25s 9ms/step - loss: 0.4013 - accuracy: 0.8485 - val_loss: 0.4025 - val_accuracy: 0.8517\n",
      "Epoch 9/20\n",
      "2813/2813 [==============================] - 25s 9ms/step - loss: 0.3946 - accuracy: 0.8517 - val_loss: 0.4048 - val_accuracy: 0.8442\n",
      "Epoch 10/20\n",
      "2813/2813 [==============================] - 26s 9ms/step - loss: 0.3843 - accuracy: 0.8542 - val_loss: 0.3883 - val_accuracy: 0.8547\n",
      "Epoch 11/20\n",
      "2813/2813 [==============================] - 26s 9ms/step - loss: 0.3776 - accuracy: 0.8577 - val_loss: 0.3911 - val_accuracy: 0.8537\n",
      "Epoch 12/20\n",
      "2813/2813 [==============================] - 26s 9ms/step - loss: 0.3726 - accuracy: 0.8588 - val_loss: 0.3766 - val_accuracy: 0.8625\n",
      "Epoch 13/20\n",
      "2813/2813 [==============================] - 25s 9ms/step - loss: 0.3662 - accuracy: 0.8596 - val_loss: 0.3580 - val_accuracy: 0.8697\n",
      "Epoch 14/20\n",
      "2813/2813 [==============================] - 25s 9ms/step - loss: 0.3613 - accuracy: 0.8617 - val_loss: 0.3578 - val_accuracy: 0.8662\n",
      "Epoch 15/20\n",
      "2813/2813 [==============================] - 25s 9ms/step - loss: 0.3620 - accuracy: 0.8622 - val_loss: 0.3520 - val_accuracy: 0.8701\n",
      "Epoch 16/20\n",
      "2813/2813 [==============================] - 26s 9ms/step - loss: 0.3598 - accuracy: 0.8620 - val_loss: 0.3686 - val_accuracy: 0.8647\n",
      "Epoch 17/20\n",
      "2813/2813 [==============================] - 26s 9ms/step - loss: 0.3520 - accuracy: 0.8664 - val_loss: 0.3600 - val_accuracy: 0.8657\n",
      "Epoch 18/20\n",
      "2813/2813 [==============================] - 25s 9ms/step - loss: 0.3478 - accuracy: 0.8669 - val_loss: 0.3476 - val_accuracy: 0.8729\n",
      "Epoch 19/20\n",
      "2813/2813 [==============================] - 25s 9ms/step - loss: 0.3513 - accuracy: 0.8664 - val_loss: 0.3520 - val_accuracy: 0.8707\n",
      "Epoch 20/20\n",
      "2813/2813 [==============================] - 25s 9ms/step - loss: 0.3421 - accuracy: 0.8709 - val_loss: 0.3513 - val_accuracy: 0.8705\n"
     ]
    }
   ],
   "source": [
    "history = model.fit(train_images,\n",
    "                    epochs=20,\n",
    "                    validation_data = validation_images)"
   ]
  },
  {
   "cell_type": "code",
   "execution_count": null,
   "metadata": {
    "pycharm": {
     "name": "#%%\n"
    }
   },
   "outputs": [],
   "source": []
  },
  {
   "cell_type": "code",
   "execution_count": null,
   "metadata": {
    "pycharm": {
     "name": "#%%\n"
    }
   },
   "outputs": [],
   "source": []
  },
  {
   "cell_type": "code",
   "execution_count": null,
   "metadata": {
    "pycharm": {
     "name": "#%%\n"
    }
   },
   "outputs": [],
   "source": []
  }
 ],
 "metadata": {
  "kernelspec": {
   "display_name": "tf",
   "language": "python",
   "name": "python3"
  },
  "language_info": {
   "codemirror_mode": {
    "name": "ipython",
    "version": 3
   },
   "file_extension": ".py",
   "mimetype": "text/x-python",
   "name": "python",
   "nbconvert_exporter": "python",
   "pygments_lexer": "ipython3",
   "version": "3.8.16"
  },
  "orig_nbformat": 4
 },
 "nbformat": 4,
 "nbformat_minor": 2
}