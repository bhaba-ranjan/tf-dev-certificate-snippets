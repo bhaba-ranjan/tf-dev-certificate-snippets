{
 "cells": [
  {
   "cell_type": "code",
   "execution_count": 1,
   "metadata": {
    "collapsed": true,
    "pycharm": {
     "name": "#%%\n"
    }
   },
   "outputs": [],
   "source": [
    "import tensorflow as tf\n",
    "import numpy as np\n",
    "import os\n",
    "import csv\n",
    "import matplotlib.pyplot as plt"
   ]
  },
  {
   "cell_type": "code",
   "execution_count": 2,
   "outputs": [],
   "source": [
    "def read_csv(file_path):\n",
    "    time = []\n",
    "    series = []\n",
    "    with open(file_path) as f:\n",
    "        reader = csv.reader(f)\n",
    "        print(reader.__next__())\n",
    "        for line in reader:\n",
    "            time.append(int(line[0]))\n",
    "            series.append(float(line[-1]))\n",
    "        time = np.array(time)\n",
    "        series = np.array(series, dtype=np.float32)\n",
    "    return time, series"
   ],
   "metadata": {
    "collapsed": false,
    "pycharm": {
     "name": "#%%\n"
    }
   }
  },
  {
   "cell_type": "code",
   "execution_count": 7,
   "outputs": [],
   "source": [
    "def tf_windowed_dataset(data, window_size, batch_size, shuffle_buffer_size):\n",
    "    dataset = tf.data.Dataset.from_tensor_slices(data)\n",
    "    dataset = dataset.window(window_size, shift=1, drop_remainder=True)\n",
    "    dataset = dataset.flat_map(lambda window: window.batch(window_size))\n",
    "    dataset = dataset.shuffle(shuffle_buffer_size).map(lambda window: (window[:-1], window[-1]))\n",
    "    dataset = dataset.batch(batch_size).prefetch(1)\n",
    "    return dataset"
   ],
   "metadata": {
    "collapsed": false,
    "pycharm": {
     "name": "#%%\n"
    }
   }
  },
  {
   "cell_type": "code",
   "execution_count": 13,
   "outputs": [
    {
     "name": "stdout",
     "output_type": "stream",
     "text": [
      "['', 'Date', 'Monthly Mean Total Sunspot Number']\n",
      "time length(3265,)\n",
      "series length(3265,)\n"
     ]
    }
   ],
   "source": [
    "file_path = './Sunspots.csv'\n",
    "time, series = read_csv(file_path)\n",
    "print(f'time length{time.shape}')\n",
    "print(f'series length{series.shape}')\n",
    "# plt.plot(time[200:500], series[200:500])\n",
    "# plt.show()"
   ],
   "metadata": {
    "collapsed": false,
    "pycharm": {
     "name": "#%%\n"
    }
   }
  },
  {
   "cell_type": "code",
   "execution_count": 78,
   "outputs": [],
   "source": [
    "window_size = 30\n",
    "batch_size  = 32\n",
    "shuffle_buffer = 100\n",
    "split_size = 2500 #.75\n",
    "\n",
    "train_y = series[:split_size]\n",
    "train_x = time[:split_size]\n",
    "\n",
    "test_y = series[split_size:]\n",
    "test_x = time[split_size:]\n",
    "\n",
    "train_dataset = tf_windowed_dataset(train_y, window_size, batch_size, shuffle_buffer)\n",
    "test_dataset = tf_windowed_dataset(test_y, window_size, batch_size, shuffle_buffer)"
   ],
   "metadata": {
    "collapsed": false,
    "pycharm": {
     "name": "#%%\n"
    }
   }
  },
  {
   "cell_type": "code",
   "execution_count": 83,
   "outputs": [
    {
     "name": "stdout",
     "output_type": "stream",
     "text": [
      "Model: \"sequential_23\"\n",
      "_________________________________________________________________\n",
      " Layer (type)                Output Shape              Param #   \n",
      "=================================================================\n",
      " bidirectional_26 (Bidirecti  (None, None, 64)         8704      \n",
      " onal)                                                           \n",
      "                                                                 \n",
      " gru_7 (GRU)                 (None, 32)                9408      \n",
      "                                                                 \n",
      " dense_46 (Dense)            (None, 16)                528       \n",
      "                                                                 \n",
      " dense_47 (Dense)            (None, 1)                 17        \n",
      "                                                                 \n",
      "=================================================================\n",
      "Total params: 18,657\n",
      "Trainable params: 18,657\n",
      "Non-trainable params: 0\n",
      "_________________________________________________________________\n",
      "None\n"
     ]
    }
   ],
   "source": [
    "model = tf.keras.Sequential([\n",
    "    # tf.keras.layers.Conv1D(32, 3, dilation_rate=3 ,padding='same', activation='relu',input_shape=[None, 1]),\n",
    "    # tf.keras.layers.Conv1D(32, 3, padding='same', activation='relu'),\n",
    "    tf.keras.layers.Bidirectional(tf.keras.layers.LSTM(32, return_sequences=True),input_shape=[None, 1]), # copy/remove the input shape here if you don't want to use Conv1D\n",
    "    tf.keras.layers.GRU(32),\n",
    "    tf.keras.layers.Dense(16, activation='relu'),\n",
    "    tf.keras.layers.Dense(1)\n",
    "])\n",
    "\n",
    "print(model.summary())"
   ],
   "metadata": {
    "collapsed": false,
    "pycharm": {
     "name": "#%%\n"
    }
   }
  },
  {
   "cell_type": "code",
   "execution_count": 84,
   "outputs": [],
   "source": [
    "loss = tf.keras.losses.Huber()\n",
    "optim = tf.keras.optimizers.Adam(1e-3)\n",
    "cb = tf.keras.metrics.MeanAbsoluteError(name='MAE')\n",
    "\n",
    "model.compile(\n",
    "    loss = loss,\n",
    "    optimizer=optim,\n",
    "    metrics=[cb]\n",
    ")"
   ],
   "metadata": {
    "collapsed": false,
    "pycharm": {
     "name": "#%%\n"
    }
   }
  },
  {
   "cell_type": "code",
   "execution_count": 85,
   "outputs": [
    {
     "name": "stdout",
     "output_type": "stream",
     "text": [
      "Epoch 1/100\n",
      "78/78 [==============================] - 4s 19ms/step - loss: 72.2708 - MAE: 72.7676 - val_loss: 72.4084 - val_MAE: 72.9033\n",
      "Epoch 2/100\n",
      "78/78 [==============================] - 1s 9ms/step - loss: 62.1515 - MAE: 62.6467 - val_loss: 61.7559 - val_MAE: 62.2478\n",
      "Epoch 3/100\n",
      "78/78 [==============================] - 1s 9ms/step - loss: 51.2456 - MAE: 51.7397 - val_loss: 50.5408 - val_MAE: 51.0335\n",
      "Epoch 4/100\n",
      "78/78 [==============================] - 1s 9ms/step - loss: 40.4965 - MAE: 40.9908 - val_loss: 40.0949 - val_MAE: 40.5869\n",
      "Epoch 5/100\n",
      "78/78 [==============================] - 1s 9ms/step - loss: 32.3871 - MAE: 32.8799 - val_loss: 32.5961 - val_MAE: 33.0881\n",
      "Epoch 6/100\n",
      "78/78 [==============================] - 1s 9ms/step - loss: 27.8513 - MAE: 28.3420 - val_loss: 27.8413 - val_MAE: 28.3345\n",
      "Epoch 7/100\n",
      "78/78 [==============================] - 1s 9ms/step - loss: 25.3313 - MAE: 25.8234 - val_loss: 24.3386 - val_MAE: 24.8298\n",
      "Epoch 8/100\n",
      "78/78 [==============================] - 1s 9ms/step - loss: 22.9679 - MAE: 23.4597 - val_loss: 21.7276 - val_MAE: 22.2194\n",
      "Epoch 9/100\n",
      "78/78 [==============================] - 1s 9ms/step - loss: 21.4728 - MAE: 21.9629 - val_loss: 19.6340 - val_MAE: 20.1246\n",
      "Epoch 10/100\n",
      "78/78 [==============================] - 1s 9ms/step - loss: 20.0818 - MAE: 20.5723 - val_loss: 18.7812 - val_MAE: 19.2716\n",
      "Epoch 11/100\n",
      "78/78 [==============================] - 1s 9ms/step - loss: 19.2531 - MAE: 19.7421 - val_loss: 17.0084 - val_MAE: 17.4999\n",
      "Epoch 12/100\n",
      "78/78 [==============================] - 1s 9ms/step - loss: 18.7424 - MAE: 19.2323 - val_loss: 16.6729 - val_MAE: 17.1653\n",
      "Epoch 13/100\n",
      "78/78 [==============================] - 1s 9ms/step - loss: 18.3337 - MAE: 18.8227 - val_loss: 16.3383 - val_MAE: 16.8280\n",
      "Epoch 14/100\n",
      "78/78 [==============================] - 1s 9ms/step - loss: 18.2241 - MAE: 18.7117 - val_loss: 17.3474 - val_MAE: 17.8384\n",
      "Epoch 15/100\n",
      "78/78 [==============================] - 1s 9ms/step - loss: 18.2992 - MAE: 18.7902 - val_loss: 15.6791 - val_MAE: 16.1684\n",
      "Epoch 16/100\n",
      "78/78 [==============================] - 1s 9ms/step - loss: 17.9256 - MAE: 18.4155 - val_loss: 16.4141 - val_MAE: 16.9057\n",
      "Epoch 17/100\n",
      "78/78 [==============================] - 1s 9ms/step - loss: 17.8043 - MAE: 18.2932 - val_loss: 16.9811 - val_MAE: 17.4723\n",
      "Epoch 18/100\n",
      "78/78 [==============================] - 1s 10ms/step - loss: 17.8963 - MAE: 18.3844 - val_loss: 16.4327 - val_MAE: 16.9233\n",
      "Epoch 19/100\n",
      "78/78 [==============================] - 1s 10ms/step - loss: 17.7028 - MAE: 18.1939 - val_loss: 15.8085 - val_MAE: 16.2963\n",
      "Epoch 20/100\n",
      "78/78 [==============================] - 1s 10ms/step - loss: 17.8683 - MAE: 18.3569 - val_loss: 15.5979 - val_MAE: 16.0881\n",
      "Epoch 21/100\n",
      "78/78 [==============================] - 1s 10ms/step - loss: 17.8713 - MAE: 18.3582 - val_loss: 16.3876 - val_MAE: 16.8809\n",
      "Epoch 22/100\n",
      "78/78 [==============================] - 1s 11ms/step - loss: 17.6794 - MAE: 18.1688 - val_loss: 16.3913 - val_MAE: 16.8842\n",
      "Epoch 23/100\n",
      "78/78 [==============================] - 1s 10ms/step - loss: 17.4090 - MAE: 17.8973 - val_loss: 15.6416 - val_MAE: 16.1341\n",
      "Epoch 24/100\n",
      "78/78 [==============================] - 1s 10ms/step - loss: 17.5436 - MAE: 18.0323 - val_loss: 16.5642 - val_MAE: 17.0547\n",
      "Epoch 25/100\n",
      "78/78 [==============================] - 1s 10ms/step - loss: 17.5831 - MAE: 18.0712 - val_loss: 15.5910 - val_MAE: 16.0819\n",
      "Epoch 26/100\n",
      "78/78 [==============================] - 1s 9ms/step - loss: 17.4030 - MAE: 17.8943 - val_loss: 15.3832 - val_MAE: 15.8730\n",
      "Epoch 27/100\n",
      "78/78 [==============================] - 1s 9ms/step - loss: 17.3500 - MAE: 17.8378 - val_loss: 16.0530 - val_MAE: 16.5420\n",
      "Epoch 28/100\n",
      "78/78 [==============================] - 1s 9ms/step - loss: 17.2754 - MAE: 17.7645 - val_loss: 15.4037 - val_MAE: 15.8964\n",
      "Epoch 29/100\n",
      "78/78 [==============================] - 1s 9ms/step - loss: 17.4955 - MAE: 17.9830 - val_loss: 15.7909 - val_MAE: 16.2801\n",
      "Epoch 30/100\n",
      "78/78 [==============================] - 1s 9ms/step - loss: 17.4370 - MAE: 17.9257 - val_loss: 15.2949 - val_MAE: 15.7837\n",
      "Epoch 31/100\n",
      "78/78 [==============================] - 1s 9ms/step - loss: 17.2633 - MAE: 17.7500 - val_loss: 15.7817 - val_MAE: 16.2709\n",
      "Epoch 32/100\n",
      "78/78 [==============================] - 1s 10ms/step - loss: 17.6902 - MAE: 18.1798 - val_loss: 15.5328 - val_MAE: 16.0218\n",
      "Epoch 33/100\n",
      "78/78 [==============================] - 1s 10ms/step - loss: 17.4665 - MAE: 17.9568 - val_loss: 15.1498 - val_MAE: 15.6387\n",
      "Epoch 34/100\n",
      "78/78 [==============================] - 1s 10ms/step - loss: 17.0695 - MAE: 17.5590 - val_loss: 15.8920 - val_MAE: 16.3835\n",
      "Epoch 35/100\n",
      "78/78 [==============================] - 1s 10ms/step - loss: 17.2062 - MAE: 17.6940 - val_loss: 15.9667 - val_MAE: 16.4563\n",
      "Epoch 36/100\n",
      "78/78 [==============================] - 1s 10ms/step - loss: 17.2496 - MAE: 17.7359 - val_loss: 16.7588 - val_MAE: 17.2506\n",
      "Epoch 37/100\n",
      "78/78 [==============================] - 1s 10ms/step - loss: 17.3222 - MAE: 17.8106 - val_loss: 17.9391 - val_MAE: 18.4326\n",
      "Epoch 38/100\n",
      "78/78 [==============================] - 1s 10ms/step - loss: 17.3227 - MAE: 17.8107 - val_loss: 16.2244 - val_MAE: 16.7177\n",
      "Epoch 39/100\n",
      "78/78 [==============================] - 1s 9ms/step - loss: 16.9928 - MAE: 17.4807 - val_loss: 15.2603 - val_MAE: 15.7491\n",
      "Epoch 40/100\n",
      "78/78 [==============================] - 1s 9ms/step - loss: 17.0464 - MAE: 17.5355 - val_loss: 15.0987 - val_MAE: 15.5886\n",
      "Epoch 41/100\n",
      "78/78 [==============================] - 1s 9ms/step - loss: 17.1821 - MAE: 17.6708 - val_loss: 15.5968 - val_MAE: 16.0855\n",
      "Epoch 42/100\n",
      "78/78 [==============================] - 1s 9ms/step - loss: 17.1063 - MAE: 17.5948 - val_loss: 15.7351 - val_MAE: 16.2267\n",
      "Epoch 43/100\n",
      "78/78 [==============================] - 1s 9ms/step - loss: 17.1314 - MAE: 17.6198 - val_loss: 15.6450 - val_MAE: 16.1349\n",
      "Epoch 44/100\n",
      "78/78 [==============================] - 1s 9ms/step - loss: 16.9874 - MAE: 17.4740 - val_loss: 16.0948 - val_MAE: 16.5859\n",
      "Epoch 45/100\n",
      "78/78 [==============================] - 1s 9ms/step - loss: 17.0754 - MAE: 17.5628 - val_loss: 15.4132 - val_MAE: 15.9022\n",
      "Epoch 46/100\n",
      "78/78 [==============================] - 1s 10ms/step - loss: 16.9805 - MAE: 17.4680 - val_loss: 15.8394 - val_MAE: 16.3306\n",
      "Epoch 47/100\n",
      "78/78 [==============================] - 1s 10ms/step - loss: 17.0350 - MAE: 17.5215 - val_loss: 15.3438 - val_MAE: 15.8334\n",
      "Epoch 48/100\n",
      "78/78 [==============================] - 1s 10ms/step - loss: 17.0256 - MAE: 17.5154 - val_loss: 16.2269 - val_MAE: 16.7153\n",
      "Epoch 49/100\n",
      "78/78 [==============================] - 1s 10ms/step - loss: 17.0379 - MAE: 17.5262 - val_loss: 15.4624 - val_MAE: 15.9541\n",
      "Epoch 50/100\n",
      "78/78 [==============================] - 1s 10ms/step - loss: 17.0272 - MAE: 17.5166 - val_loss: 15.5735 - val_MAE: 16.0641\n",
      "Epoch 51/100\n",
      "78/78 [==============================] - 1s 10ms/step - loss: 16.9856 - MAE: 17.4740 - val_loss: 15.8656 - val_MAE: 16.3580\n",
      "Epoch 52/100\n",
      "78/78 [==============================] - 1s 11ms/step - loss: 16.9556 - MAE: 17.4428 - val_loss: 16.5161 - val_MAE: 17.0074\n",
      "Epoch 53/100\n",
      "78/78 [==============================] - 1s 11ms/step - loss: 16.7818 - MAE: 17.2702 - val_loss: 16.1742 - val_MAE: 16.6645\n",
      "Epoch 54/100\n",
      "78/78 [==============================] - 1s 10ms/step - loss: 16.9622 - MAE: 17.4470 - val_loss: 16.8057 - val_MAE: 17.2945\n",
      "Epoch 55/100\n",
      "78/78 [==============================] - 1s 10ms/step - loss: 16.8897 - MAE: 17.3775 - val_loss: 15.9624 - val_MAE: 16.4546\n",
      "Epoch 56/100\n",
      "78/78 [==============================] - 1s 9ms/step - loss: 16.9205 - MAE: 17.4076 - val_loss: 16.0251 - val_MAE: 16.5140\n",
      "Epoch 57/100\n",
      "78/78 [==============================] - 1s 9ms/step - loss: 16.9388 - MAE: 17.4267 - val_loss: 15.4897 - val_MAE: 15.9802\n",
      "Epoch 58/100\n",
      "78/78 [==============================] - 1s 9ms/step - loss: 17.1091 - MAE: 17.5973 - val_loss: 15.7970 - val_MAE: 16.2862\n",
      "Epoch 59/100\n",
      "78/78 [==============================] - 1s 9ms/step - loss: 16.7605 - MAE: 17.2485 - val_loss: 16.0697 - val_MAE: 16.5585\n",
      "Epoch 60/100\n",
      "78/78 [==============================] - 1s 9ms/step - loss: 16.9874 - MAE: 17.4752 - val_loss: 15.9985 - val_MAE: 16.4889\n",
      "Epoch 61/100\n",
      "78/78 [==============================] - 1s 9ms/step - loss: 16.8505 - MAE: 17.3389 - val_loss: 15.4285 - val_MAE: 15.9156\n",
      "Epoch 62/100\n",
      "78/78 [==============================] - 1s 9ms/step - loss: 16.7055 - MAE: 17.1919 - val_loss: 15.6868 - val_MAE: 16.1763\n",
      "Epoch 63/100\n",
      "78/78 [==============================] - 1s 10ms/step - loss: 17.0546 - MAE: 17.5433 - val_loss: 15.7143 - val_MAE: 16.2048\n",
      "Epoch 64/100\n",
      "78/78 [==============================] - 1s 10ms/step - loss: 16.7092 - MAE: 17.1975 - val_loss: 15.5964 - val_MAE: 16.0880\n",
      "Epoch 65/100\n",
      "78/78 [==============================] - 1s 10ms/step - loss: 16.7375 - MAE: 17.2247 - val_loss: 15.6072 - val_MAE: 16.0972\n",
      "Epoch 66/100\n",
      "78/78 [==============================] - 1s 10ms/step - loss: 16.6387 - MAE: 17.1267 - val_loss: 15.4631 - val_MAE: 15.9523\n",
      "Epoch 67/100\n",
      "78/78 [==============================] - 1s 10ms/step - loss: 16.8647 - MAE: 17.3514 - val_loss: 15.8377 - val_MAE: 16.3251\n",
      "Epoch 68/100\n",
      "78/78 [==============================] - 1s 10ms/step - loss: 16.7116 - MAE: 17.1985 - val_loss: 16.1956 - val_MAE: 16.6886\n",
      "Epoch 69/100\n",
      "78/78 [==============================] - 1s 10ms/step - loss: 16.8231 - MAE: 17.3121 - val_loss: 15.4722 - val_MAE: 15.9641\n",
      "Epoch 70/100\n",
      "78/78 [==============================] - 1s 11ms/step - loss: 16.6963 - MAE: 17.1829 - val_loss: 15.1868 - val_MAE: 15.6750\n",
      "Epoch 71/100\n",
      "78/78 [==============================] - 1s 9ms/step - loss: 16.5843 - MAE: 17.0716 - val_loss: 15.4805 - val_MAE: 15.9709\n",
      "Epoch 72/100\n",
      "78/78 [==============================] - 1s 10ms/step - loss: 16.7090 - MAE: 17.1951 - val_loss: 16.8028 - val_MAE: 17.2933\n",
      "Epoch 73/100\n",
      "78/78 [==============================] - 1s 10ms/step - loss: 16.6146 - MAE: 17.1022 - val_loss: 16.0547 - val_MAE: 16.5440\n",
      "Epoch 74/100\n",
      "78/78 [==============================] - 1s 10ms/step - loss: 16.5137 - MAE: 17.0017 - val_loss: 16.3060 - val_MAE: 16.7975\n",
      "Epoch 75/100\n",
      "78/78 [==============================] - 1s 11ms/step - loss: 16.6449 - MAE: 17.1322 - val_loss: 16.0052 - val_MAE: 16.4926\n",
      "Epoch 76/100\n",
      "78/78 [==============================] - 1s 10ms/step - loss: 16.6540 - MAE: 17.1408 - val_loss: 16.0744 - val_MAE: 16.5698\n",
      "Epoch 77/100\n",
      "78/78 [==============================] - 1s 11ms/step - loss: 16.7240 - MAE: 17.2118 - val_loss: 15.3141 - val_MAE: 15.8033\n",
      "Epoch 78/100\n",
      "78/78 [==============================] - 1s 12ms/step - loss: 16.5418 - MAE: 17.0296 - val_loss: 15.6731 - val_MAE: 16.1604\n",
      "Epoch 79/100\n",
      "78/78 [==============================] - 1s 10ms/step - loss: 16.8696 - MAE: 17.3571 - val_loss: 16.1558 - val_MAE: 16.6494\n",
      "Epoch 80/100\n",
      "78/78 [==============================] - 1s 10ms/step - loss: 16.6926 - MAE: 17.1789 - val_loss: 17.2959 - val_MAE: 17.7895\n",
      "Epoch 81/100\n",
      "78/78 [==============================] - 1s 10ms/step - loss: 16.5760 - MAE: 17.0652 - val_loss: 15.6261 - val_MAE: 16.1148\n",
      "Epoch 82/100\n",
      "78/78 [==============================] - 1s 10ms/step - loss: 16.4679 - MAE: 16.9553 - val_loss: 15.8224 - val_MAE: 16.3150\n",
      "Epoch 83/100\n",
      "78/78 [==============================] - 1s 9ms/step - loss: 16.4623 - MAE: 16.9503 - val_loss: 16.3799 - val_MAE: 16.8734\n",
      "Epoch 84/100\n",
      "78/78 [==============================] - 1s 9ms/step - loss: 16.5082 - MAE: 16.9950 - val_loss: 16.0731 - val_MAE: 16.5653\n",
      "Epoch 85/100\n",
      "78/78 [==============================] - 1s 10ms/step - loss: 16.5110 - MAE: 16.9952 - val_loss: 15.4136 - val_MAE: 15.9034\n",
      "Epoch 86/100\n",
      "78/78 [==============================] - 1s 10ms/step - loss: 16.5586 - MAE: 17.0461 - val_loss: 16.7294 - val_MAE: 17.2202\n",
      "Epoch 87/100\n",
      "78/78 [==============================] - 1s 9ms/step - loss: 16.7182 - MAE: 17.2052 - val_loss: 15.8941 - val_MAE: 16.3876\n",
      "Epoch 88/100\n",
      "78/78 [==============================] - 1s 10ms/step - loss: 16.4602 - MAE: 16.9475 - val_loss: 15.8206 - val_MAE: 16.3143\n",
      "Epoch 89/100\n",
      "78/78 [==============================] - 1s 11ms/step - loss: 16.2887 - MAE: 16.7772 - val_loss: 16.1923 - val_MAE: 16.6850\n",
      "Epoch 90/100\n",
      "78/78 [==============================] - 1s 11ms/step - loss: 16.3165 - MAE: 16.8029 - val_loss: 16.1832 - val_MAE: 16.6746\n",
      "Epoch 91/100\n",
      "78/78 [==============================] - 1s 11ms/step - loss: 16.4680 - MAE: 16.9536 - val_loss: 16.4486 - val_MAE: 16.9421\n",
      "Epoch 92/100\n",
      "78/78 [==============================] - 1s 11ms/step - loss: 16.3286 - MAE: 16.8154 - val_loss: 16.0662 - val_MAE: 16.5600\n",
      "Epoch 93/100\n",
      "78/78 [==============================] - 1s 11ms/step - loss: 16.4408 - MAE: 16.9283 - val_loss: 16.0034 - val_MAE: 16.4994\n",
      "Epoch 94/100\n",
      "78/78 [==============================] - 1s 11ms/step - loss: 16.6163 - MAE: 17.1031 - val_loss: 16.3120 - val_MAE: 16.8055\n",
      "Epoch 95/100\n",
      "78/78 [==============================] - 1s 10ms/step - loss: 16.7081 - MAE: 17.1966 - val_loss: 16.3415 - val_MAE: 16.8354\n",
      "Epoch 96/100\n",
      "78/78 [==============================] - 1s 10ms/step - loss: 16.3374 - MAE: 16.8253 - val_loss: 15.3312 - val_MAE: 15.8203\n",
      "Epoch 97/100\n",
      "78/78 [==============================] - 1s 9ms/step - loss: 16.4744 - MAE: 16.9610 - val_loss: 16.2828 - val_MAE: 16.7762\n",
      "Epoch 98/100\n",
      "78/78 [==============================] - 1s 10ms/step - loss: 16.3598 - MAE: 16.8470 - val_loss: 16.4548 - val_MAE: 16.9501\n",
      "Epoch 99/100\n",
      "78/78 [==============================] - 1s 9ms/step - loss: 16.3806 - MAE: 16.8676 - val_loss: 15.5477 - val_MAE: 16.0379\n",
      "Epoch 100/100\n",
      "78/78 [==============================] - 1s 10ms/step - loss: 16.3576 - MAE: 16.8445 - val_loss: 16.1916 - val_MAE: 16.6854\n"
     ]
    }
   ],
   "source": [
    "history = model.fit(\n",
    "    train_dataset,\n",
    "    epochs=100,\n",
    "    validation_data= test_dataset\n",
    ")"
   ],
   "metadata": {
    "collapsed": false,
    "pycharm": {
     "name": "#%%\n"
    }
   }
  },
  {
   "cell_type": "code",
   "execution_count": 86,
   "outputs": [
    {
     "data": {
      "text/plain": "dict_keys(['loss', 'MAE', 'val_loss', 'val_MAE'])"
     },
     "execution_count": 86,
     "metadata": {},
     "output_type": "execute_result"
    }
   ],
   "source": [
    "history.history.keys()"
   ],
   "metadata": {
    "collapsed": false,
    "pycharm": {
     "name": "#%%\n"
    }
   }
  },
  {
   "cell_type": "code",
   "execution_count": 88,
   "outputs": [
    {
     "data": {
      "text/plain": "<Figure size 640x480 with 1 Axes>",
      "image/png": "[encoded data removed]"
     },
     "metadata": {},
     "output_type": "display_data"
    }
   ],
   "source": [
    "plt.plot(range(100),history.history['MAE'],'-')\n",
    "plt.plot(range(100), history.history['val_MAE'],'--')\n",
    "plt.show()"
   ],
   "metadata": {
    "collapsed": false,
    "pycharm": {
     "name": "#%%\n"
    }
   }
  },
  {
   "cell_type": "code",
   "execution_count": null,
   "outputs": [],
   "source": [],
   "metadata": {
    "collapsed": false,
    "pycharm": {
     "name": "#%%\n"
    }
   }
  }
 ],
 "metadata": {
  "kernelspec": {
   "display_name": "Python 3",
   "language": "python",
   "name": "python3"
  },
  "language_info": {
   "codemirror_mode": {
    "name": "ipython",
    "version": 2
   },
   "file_extension": ".py",
   "mimetype": "text/x-python",
   "name": "python",
   "nbconvert_exporter": "python",
   "pygments_lexer": "ipython2",
   "version": "2.7.6"
  }
 },
 "nbformat": 4,
 "nbformat_minor": 0
}