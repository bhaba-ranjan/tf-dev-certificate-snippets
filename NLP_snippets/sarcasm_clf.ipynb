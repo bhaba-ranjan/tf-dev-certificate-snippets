{
 "cells": [
  {
   "cell_type": "code",
   "execution_count": 1,
   "metadata": {
    "pycharm": {
     "name": "#%%\n"
    }
   },
   "outputs": [],
   "source": [
    "import json\n",
    "import tensorflow as tf\n",
    "import numpy as np"
   ]
  },
  {
   "cell_type": "code",
   "execution_count": 2,
   "metadata": {
    "pycharm": {
     "name": "#%%\n"
    }
   },
   "outputs": [],
   "source": [
    "file = open('../datasets/news_sarcasm_data_set/Sarcasm_Headlines_Dataset.json')\n",
    "\n",
    "# print(file.__next__())\n"
   ]
  },
  {
   "attachments": {},
   "cell_type": "markdown",
   "metadata": {
    "pycharm": {
     "name": "#%% md\n"
    }
   },
   "source": [
    "### Read Files"
   ]
  },
  {
   "cell_type": "code",
   "execution_count": 4,
   "metadata": {
    "pycharm": {
     "name": "#%%\n"
    }
   },
   "outputs": [
    {
     "name": "stdout",
     "output_type": "stream",
     "text": [
      "headlines: 26709\n",
      "labels: 26709\n",
      "maximum length of string by WORDS: 39\n"
     ]
    }
   ],
   "source": [
    "headLine = []\n",
    "label = []\n",
    "lengths = []\n",
    "with open('../datasets/news_sarcasm_data_set/Sarcasm_Headlines_Dataset.json') as file:\n",
    "    for jsonObject in file:\n",
    "        parsedObject = json.loads(jsonObject)\n",
    "        headLine.append(parsedObject['headline'])\n",
    "        lengths.append(len(headLine[-1].split(' ')))\n",
    "        label.append(parsedObject['is_sarcastic'])\n",
    "\n",
    "print(f'headlines: {len(headLine)}')\n",
    "print(f'labels: {len(label)}')\n",
    "print(f'maximum length of string by WORDS: {max(lengths)}')"
   ]
  },
  {
   "attachments": {},
   "cell_type": "markdown",
   "metadata": {
    "pycharm": {
     "name": "#%% md\n"
    }
   },
   "source": [
    "### TF tokenize and padding"
   ]
  },
  {
   "cell_type": "code",
   "execution_count": 5,
   "metadata": {
    "collapsed": false,
    "pycharm": {
     "name": "#%%\n"
    }
   },
   "outputs": [
    {
     "name": "stdout",
     "output_type": "stream",
     "text": [
      "Shape of encoded sequences: (26709, 40)\n",
      "Shape of labels: (26709,)\n"
     ]
    }
   ],
   "source": [
    "tokenizer = tf.keras.preprocessing.text.Tokenizer(num_words=2000, oov_token='<OOV>')\n",
    "tokenizer.fit_on_texts(headLine)\n",
    "encodeHeadlines = tokenizer.texts_to_sequences(headLine)\n",
    "\n",
    "encodeHeadlines = tf.keras.preprocessing.sequence.pad_sequences(encodeHeadlines, padding='pre', truncating='post', maxlen=40)\n",
    "label = np.array(label, dtype=np.float32)\n",
    "\n",
    "encodeHeadlines = np.array(encodeHeadlines, dtype=np.float64)\n",
    "\n",
    "print(f'Shape of encoded sequences: {encodeHeadlines.shape}')\n",
    "print(f'Shape of labels: {label.shape}')"
   ]
  },
  {
   "cell_type": "code",
   "execution_count": null,
   "outputs": [],
   "source": [
    "loss = tf.keras.losses.BinaryCrossentropy()\n",
    "optim =tf.keras.optimizers.Adam(learning_rate=0.001)\n",
    "\n",
    "# model = tf.keras.Sequential([\n",
    "#     tf.keras.layers.RepeatVector(1),\n",
    "#     tf.keras.layers.Bidirectional( tf.keras.layers.LSTM(32)),\n",
    "#     tf.keras.layers.Dense(16, activation='relu'),\n",
    "#     tf.keras.layers.Dense(1, activation='sigmoid')\n",
    "# ])\n",
    "\n",
    "\n",
    "model = tf.keras.Sequential([\n",
    "    tf.keras.layers.Embedding(\n",
    "        input_dim= 2000, # Num words in tokenizer\n",
    "        output_dim=20,\n",
    "        input_length= encodeHeadlines.shape[1]\n",
    "    ),\n",
    "    tf.keras.layers.GlobalAvgPool1D(),\n",
    "    tf.keras.layers.RepeatVector(1),\n",
    "    tf.keras.layers.Bidirectional(tf.keras.layers.LSTM(32, return_sequences=True, input_length=20)),\n",
    "    tf.keras.layers.LSTM(16),\n",
    "    tf.keras.layers.Dense(16, activation='relu'),\n",
    "    tf.keras.layers.Dense(1, activation='sigmoid')\n",
    "])\n",
    "\n",
    "model.compile(\n",
    "    loss=loss,\n",
    "    optimizer=optim,\n",
    "    metrics=['acc']\n",
    ")"
   ],
   "metadata": {
    "collapsed": false,
    "pycharm": {
     "name": "#%%\n"
    }
   }
  },
  {
   "cell_type": "markdown",
   "source": [
    "### Convert both the inputs to NUMPY ARRAY"
   ],
   "metadata": {
    "collapsed": false,
    "pycharm": {
     "name": "#%% md\n"
    }
   }
  },
  {
   "cell_type": "code",
   "execution_count": null,
   "outputs": [],
   "source": [
    "print(model.summary())"
   ],
   "metadata": {
    "collapsed": false,
    "pycharm": {
     "name": "#%%\n"
    }
   }
  },
  {
   "cell_type": "code",
   "execution_count": null,
   "outputs": [],
   "source": [
    "history = model.fit(x= encodeHeadlines,\n",
    "                    y= label,\n",
    "                    epochs=20,\n",
    "                    validation_split=.3)"
   ],
   "metadata": {
    "collapsed": false,
    "pycharm": {
     "name": "#%%\n"
    }
   }
  }
 ],
 "metadata": {
  "kernelspec": {
   "display_name": "tf",
   "language": "python",
   "name": "python3"
  },
  "language_info": {
   "codemirror_mode": {
    "name": "ipython",
    "version": 3
   },
   "file_extension": ".py",
   "mimetype": "text/x-python",
   "name": "python",
   "nbconvert_exporter": "python",
   "pygments_lexer": "ipython3",
   "version": "3.8.16"
  },
  "orig_nbformat": 4
 },
 "nbformat": 4,
 "nbformat_minor": 2
}