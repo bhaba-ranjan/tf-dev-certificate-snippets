{
 "cells": [
  {
   "cell_type": "code",
   "execution_count": 2,
   "metadata": {
    "pycharm": {
     "name": "#%%\n"
    }
   },
   "outputs": [],
   "source": [
    "import tensorflow as tf\n",
    "from tensorflow.keras.preprocessing.text import Tokenizer\n",
    "from tensorflow.keras.preprocessing.sequence import pad_sequences"
   ]
  },
  {
   "cell_type": "code",
   "execution_count": 4,
   "metadata": {
    "pycharm": {
     "name": "#%%\n"
    }
   },
   "outputs": [],
   "source": [
    "example_sentences = [\n",
    "    'I love my dog',    \n",
    "    'I love my cat',\n",
    "    'I love to go on hiking'\n",
    "]\n",
    "\n",
    "validation = [\n",
    "    'I really love my dog',\n",
    "    ' This word in not present',\n",
    "]\n",
    "\n",
    "tokenizer = Tokenizer(num_words=100, oov_token='<OOV>')"
   ]
  },
  {
   "cell_type": "code",
   "execution_count": 5,
   "metadata": {
    "pycharm": {
     "name": "#%%\n"
    }
   },
   "outputs": [],
   "source": [
    "tokenizer.fit_on_texts(example_sentences)"
   ]
  },
  {
   "cell_type": "code",
   "execution_count": 6,
   "metadata": {
    "pycharm": {
     "name": "#%%\n"
    }
   },
   "outputs": [
    {
     "name": "stdout",
     "output_type": "stream",
     "text": [
      "{'<OOV>': 1, 'i': 2, 'love': 3, 'my': 4, 'dog': 5, 'cat': 6, 'to': 7, 'go': 8, 'on': 9, 'hiking': 10}\n"
     ]
    }
   ],
   "source": [
    "print(tokenizer.word_index)"
   ]
  },
  {
   "cell_type": "code",
   "execution_count": 10,
   "metadata": {
    "pycharm": {
     "name": "#%%\n"
    }
   },
   "outputs": [
    {
     "name": "stdout",
     "output_type": "stream",
     "text": [
      "Encoded_scentences: [[2, 3, 4, 5], [2, 3, 4, 6], [2, 3, 7, 8, 9, 10]]\n",
      "Validation_encoding: [[2, 1, 3, 4, 5], [1, 1, 1, 1, 1]]\n"
     ]
    }
   ],
   "source": [
    "encoded_scentences = tokenizer.texts_to_sequences(example_sentences)\n",
    "validation_encoding = tokenizer.texts_to_sequences(validation)\n",
    "\n",
    "print(f'Encoded_scentences: {encoded_scentences}')\n",
    "print(f'Validation_encoding: {validation_encoding}')"
   ]
  },
  {
   "cell_type": "code",
   "execution_count": 12,
   "metadata": {
    "pycharm": {
     "name": "#%%\n"
    }
   },
   "outputs": [
    {
     "name": "stdout",
     "output_type": "stream",
     "text": [
      "[[ 0  0  2  3  4  5]\n",
      " [ 0  0  2  3  4  6]\n",
      " [ 2  3  7  8  9 10]]\n"
     ]
    }
   ],
   "source": [
    "padded_encoded = pad_sequences(encoded_scentences)\n",
    "print(f'{padded_encoded}')"
   ]
  },
  {
   "cell_type": "code",
   "execution_count": 13,
   "metadata": {
    "pycharm": {
     "name": "#%%\n"
    }
   },
   "outputs": [
    {
     "name": "stdout",
     "output_type": "stream",
     "text": [
      "[[ 2  3  4  5  0  0]\n",
      " [ 2  3  4  6  0  0]\n",
      " [ 2  3  7  8  9 10]]\n"
     ]
    }
   ],
   "source": [
    "padded_encoded = pad_sequences(encoded_scentences, padding='post')\n",
    "print(f'{padded_encoded}')"
   ]
  },
  {
   "cell_type": "code",
   "execution_count": 14,
   "metadata": {
    "pycharm": {
     "name": "#%%\n"
    }
   },
   "outputs": [
    {
     "name": "stdout",
     "output_type": "stream",
     "text": [
      "[[ 2  3  4  5  0]\n",
      " [ 2  3  4  6  0]\n",
      " [ 3  7  8  9 10]]\n"
     ]
    }
   ],
   "source": [
    "padded_encoded = pad_sequences(encoded_scentences, padding='post', maxlen = 5)\n",
    "print(f'{padded_encoded}')"
   ]
  },
  {
   "cell_type": "code",
   "execution_count": 15,
   "metadata": {
    "pycharm": {
     "name": "#%%\n"
    }
   },
   "outputs": [
    {
     "name": "stdout",
     "output_type": "stream",
     "text": [
      "[[2 3 4 5 0]\n",
      " [2 3 4 6 0]\n",
      " [2 3 7 8 9]]\n"
     ]
    }
   ],
   "source": [
    "padded_encoded = pad_sequences(encoded_scentences, padding='post', maxlen = 5, truncating='post')\n",
    "print(f'{padded_encoded}')"
   ]
  },
  {
   "cell_type": "code",
   "execution_count": null,
   "metadata": {
    "pycharm": {
     "name": "#%%\n"
    }
   },
   "outputs": [],
   "source": []
  }
 ],
 "metadata": {
  "kernelspec": {
   "display_name": "tf",
   "language": "python",
   "name": "python3"
  },
  "language_info": {
   "codemirror_mode": {
    "name": "ipython",
    "version": 3
   },
   "file_extension": ".py",
   "mimetype": "text/x-python",
   "name": "python",
   "nbconvert_exporter": "python",
   "pygments_lexer": "ipython3",
   "version": "3.8.16"
  },
  "orig_nbformat": 4
 },
 "nbformat": 4,
 "nbformat_minor": 2
}