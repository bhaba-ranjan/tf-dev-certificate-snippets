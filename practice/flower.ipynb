{
 "cells": [
  {
   "cell_type": "code",
   "execution_count": 74,
   "metadata": {
    "collapsed": true,
    "pycharm": {
     "name": "#%%\n"
    }
   },
   "outputs": [],
   "source": [
    "import matplotlib.pyplot as plt\n",
    "import tensorflow as tf\n",
    "import tensorflow_datasets as tfds\n",
    "import numpy as np\n",
    "import matplotlib.pyplot as plt\n",
    "from PIL import Image\n",
    "\n",
    "from sklearn.model_selection import train_test_split"
   ]
  },
  {
   "cell_type": "code",
   "execution_count": 75,
   "outputs": [],
   "source": [
    "data, info = tfds.load('tf_flowers', with_info=True, as_supervised=True)"
   ],
   "metadata": {
    "collapsed": false,
    "pycharm": {
     "name": "#%%\n"
    }
   }
  },
  {
   "cell_type": "code",
   "execution_count": 83,
   "outputs": [],
   "source": [
    "def parse_review(dataset):\n",
    "    reviews = []\n",
    "    labels = []\n",
    "\n",
    "    for review, label in dataset:\n",
    "        img = Image.fromarray(review.numpy())\n",
    "        img_reshaped = img.resize((224,224))\n",
    "        reviews.append(np.array(img_reshaped, dtype=np.float64))\n",
    "        labels.append(label.numpy())\n",
    "\n",
    "    reviews= np.array(reviews, dtype=np.float64)\n",
    "    labels = np.array(labels, dtype=np.float32)\n",
    "    return reviews, labels"
   ],
   "metadata": {
    "collapsed": false,
    "pycharm": {
     "name": "#%%\n"
    }
   }
  },
  {
   "cell_type": "code",
   "execution_count": 84,
   "outputs": [],
   "source": [
    "def split_dataset(images, labels, train_split = 0.75, shuffle = True):\n",
    "    train_images, train_labels,  validation_images, validation_labels = train_test_split(images, labels , train_size= train_split, stratify=labels, shuffle=True)\n",
    "    return train_images, train_labels,  validation_images, validation_labels"
   ],
   "metadata": {
    "collapsed": false,
    "pycharm": {
     "name": "#%%\n"
    }
   }
  },
  {
   "cell_type": "code",
   "execution_count": 85,
   "outputs": [],
   "source": [
    "def print_classes_lables(collection):\n",
    "    element, count = np.unique( collection, return_counts=True)\n",
    "    print(f'unique classes: {element} \\n frequency: {count}\\n')"
   ],
   "metadata": {
    "collapsed": false,
    "pycharm": {
     "name": "#%%\n"
    }
   }
  },
  {
   "cell_type": "code",
   "execution_count": 86,
   "outputs": [],
   "source": [
    "full_data = data['train']"
   ],
   "metadata": {
    "collapsed": false,
    "pycharm": {
     "name": "#%%\n"
    }
   }
  },
  {
   "cell_type": "code",
   "execution_count": 87,
   "outputs": [],
   "source": [
    "img, label = parse_review(full_data)\n",
    "\n",
    "train_x, val_x, train_y, val_y = split_dataset(images=img,\n",
    "                                                labels=label,\n",
    "                                                train_split=0.75,\n",
    "                                                shuffle=True)\n"
   ],
   "metadata": {
    "collapsed": false,
    "pycharm": {
     "name": "#%%\n"
    }
   }
  },
  {
   "cell_type": "code",
   "execution_count": 88,
   "outputs": [
    {
     "name": "stdout",
     "output_type": "stream",
     "text": [
      " train images: (2752, 224, 224, 3)\n",
      " train lables: (2752,)\n",
      "unique classes: [0. 1. 2. 3. 4.] \n",
      " frequency: [673 475 599 524 481]\n",
      "\n",
      " val images: (918, 224, 224, 3)\n",
      " val lables: (918,)\n",
      "unique classes: [0. 1. 2. 3. 4.] \n",
      " frequency: [225 158 200 175 160]\n",
      "\n"
     ]
    }
   ],
   "source": [
    "print(f' train images: {train_x.shape}')\n",
    "print(f' train lables: {train_y.shape}')\n",
    "print_classes_lables(train_y)\n",
    "\n",
    "\n",
    "print(f' val images: {val_x.shape}')\n",
    "print(f' val lables: {val_y.shape}')\n",
    "print_classes_lables(val_y)"
   ],
   "metadata": {
    "collapsed": false,
    "pycharm": {
     "name": "#%%\n"
    }
   }
  },
  {
   "cell_type": "code",
   "execution_count": 89,
   "outputs": [],
   "source": [
    "def get_pre_trained_model(input_shape = None):\n",
    "\n",
    "    # block_11_add for MobilenetV2\n",
    "    # mixed7 for inceptionV3\n",
    "\n",
    "    pre_trained_model = tf.keras.applications.inception_v3.InceptionV3(\n",
    "        input_shape= input_shape,\n",
    "        include_top= False,\n",
    "        weights='imagenet',\n",
    "    )\n",
    "\n",
    "\n",
    "    # pre_trained_model = tf.keras.applications.mobilenet_v2.MobileNetV2(\n",
    "    #     input_shape= input_shape,\n",
    "    #     include_top= False,\n",
    "    #     weights='imagenet',\n",
    "    # )\n",
    "\n",
    "    # pre_trained_model = tf.keras.applications.resnet50.ResNet50(\n",
    "    #     input_shape= input_shape,\n",
    "    #     include_top= False,\n",
    "    #     weights='imagenet',\n",
    "    # )\n",
    "\n",
    "    # pre_trained_model = tf.keras.applications.efficientnet.EfficientNetB0(\n",
    "    #     input_shape= input_shape,\n",
    "    #     include_top= False,\n",
    "    #     weights='imagenet',\n",
    "    # )\n",
    "\n",
    "\n",
    "    # set layers trainable to false\n",
    "    for layer in pre_trained_model.layers:\n",
    "        layer.trainable = False\n",
    "\n",
    "    # print(pre_trained_model.summary())\n",
    "\n",
    "    return pre_trained_model"
   ],
   "metadata": {
    "collapsed": false,
    "pycharm": {
     "name": "#%%\n"
    }
   }
  },
  {
   "cell_type": "code",
   "execution_count": 90,
   "outputs": [],
   "source": [
    "def get_layer_output( pre_trained_model, layer_name):\n",
    "    selected_layer = pre_trained_model.get_layer(layer_name)\n",
    "    output = selected_layer.output\n",
    "    return output\n"
   ],
   "metadata": {
    "collapsed": false,
    "pycharm": {
     "name": "#%%\n"
    }
   }
  },
  {
   "cell_type": "code",
   "execution_count": 92,
   "outputs": [],
   "source": [
    "train_img_gen = tf.keras.preprocessing.image.ImageDataGenerator(rescale=1.0/255,\n",
    "                                                                horizontal_flip=True,\n",
    "                                                                vertical_flip=False,\n",
    "                                                                width_shift_range=0.3,\n",
    "                                                                fill_mode='nearest')\n",
    "\n",
    "validation_img_gen = tf.keras.preprocessing.image.ImageDataGenerator(rescale=1.0/255)\n"
   ],
   "metadata": {
    "collapsed": false,
    "pycharm": {
     "name": "#%%\n"
    }
   }
  },
  {
   "cell_type": "code",
   "execution_count": 104,
   "outputs": [],
   "source": [
    "train_images = train_img_gen.flow(x=train_x,\n",
    "                                  y=train_y,\n",
    "                                  batch_size=64)\n",
    "\n",
    "validation_images = validation_img_gen.flow(x = val_x,\n",
    "                                            y = val_y,\n",
    "                                            batch_size=64)"
   ],
   "metadata": {
    "collapsed": false,
    "pycharm": {
     "name": "#%%\n"
    }
   }
  },
  {
   "cell_type": "code",
   "execution_count": 105,
   "outputs": [],
   "source": [
    "check_point_cb = tf.keras.callbacks.ModelCheckpoint(\n",
    "    filepath= 'best_model_as_per_val_accuracy.h5',# path to save the model if the check point matches\n",
    "    save_best_only= True,\n",
    "    monitor= 'val_accuracy', # check if the it is logged as val_acc or val_accuracy\n",
    "    mode= 'auto' # options {min, max, auto}\n",
    ")"
   ],
   "metadata": {
    "collapsed": false,
    "pycharm": {
     "name": "#%%\n"
    }
   }
  },
  {
   "cell_type": "code",
   "execution_count": 106,
   "outputs": [],
   "source": [
    "\n",
    "pre_trained_model = get_pre_trained_model(input_shape=(224,224,3))\n",
    "output_layer = get_layer_output(pre_trained_model, layer_name='mixed7')\n",
    "\n",
    "x = tf.keras.layers.Flatten()(output_layer)\n",
    "x = tf.keras.layers.Dense(128, activation='relu')(x)\n",
    "x = tf.keras.layers.Dense(5, activation='softmax')(x)\n",
    "\n",
    "model = tf.keras.Model(inputs = pre_trained_model.input, outputs=x)\n",
    "\n",
    "loss = tf.keras.losses.SparseCategoricalCrossentropy()\n",
    "optimiser = tf.keras.optimizers.legacy.Adam(learning_rate=0.001)\n",
    "\n",
    "model.compile(loss=loss, optimizer= optimiser,\n",
    "              metrics=[\n",
    "                  'accuracy',\n",
    "                #   tf.keras.metrics.Precision(),\n",
    "                #   tf.keras.metrics.Recall()\n",
    "                  ])"
   ],
   "metadata": {
    "collapsed": false,
    "pycharm": {
     "name": "#%%\n"
    }
   }
  },
  {
   "cell_type": "code",
   "execution_count": 107,
   "outputs": [
    {
     "name": "stdout",
     "output_type": "stream",
     "text": [
      "Epoch 1/20\n",
      "43/43 [==============================] - 28s 602ms/step - loss: 1.2133 - accuracy: 0.6788 - val_loss: 0.4701 - val_accuracy: 0.8431\n",
      "Epoch 2/20\n",
      "43/43 [==============================] - 25s 573ms/step - loss: 0.3820 - accuracy: 0.8677 - val_loss: 0.3954 - val_accuracy: 0.8791\n",
      "Epoch 3/20\n",
      "43/43 [==============================] - 22s 496ms/step - loss: 0.2843 - accuracy: 0.9008 - val_loss: 0.3379 - val_accuracy: 0.8954\n",
      "Epoch 4/20\n",
      "43/43 [==============================] - 22s 503ms/step - loss: 0.2265 - accuracy: 0.9230 - val_loss: 0.3437 - val_accuracy: 0.8780\n",
      "Epoch 5/20\n",
      "43/43 [==============================] - 24s 558ms/step - loss: 0.1874 - accuracy: 0.9397 - val_loss: 0.3191 - val_accuracy: 0.8922\n",
      "Epoch 6/20\n",
      "43/43 [==============================] - 24s 566ms/step - loss: 0.1613 - accuracy: 0.9484 - val_loss: 0.3524 - val_accuracy: 0.8922\n",
      "Epoch 7/20\n",
      "43/43 [==============================] - 21s 499ms/step - loss: 0.1444 - accuracy: 0.9546 - val_loss: 0.3325 - val_accuracy: 0.8954\n",
      "Epoch 8/20\n",
      "43/43 [==============================] - 21s 494ms/step - loss: 0.1293 - accuracy: 0.9557 - val_loss: 0.3443 - val_accuracy: 0.8943\n",
      "Epoch 9/20\n",
      "43/43 [==============================] - 20s 469ms/step - loss: 0.1234 - accuracy: 0.9629 - val_loss: 0.3532 - val_accuracy: 0.8932\n",
      "Epoch 10/20\n",
      "43/43 [==============================] - 21s 492ms/step - loss: 0.1236 - accuracy: 0.9564 - val_loss: 0.3589 - val_accuracy: 0.8954\n",
      "Epoch 11/20\n",
      "43/43 [==============================] - 21s 491ms/step - loss: 0.1086 - accuracy: 0.9640 - val_loss: 0.4021 - val_accuracy: 0.8845\n",
      "Epoch 12/20\n",
      "43/43 [==============================] - 21s 483ms/step - loss: 0.0705 - accuracy: 0.9786 - val_loss: 0.3553 - val_accuracy: 0.8987\n",
      "Epoch 13/20\n",
      "43/43 [==============================] - 21s 496ms/step - loss: 0.0867 - accuracy: 0.9735 - val_loss: 0.3991 - val_accuracy: 0.8922\n",
      "Epoch 14/20\n",
      "43/43 [==============================] - 23s 539ms/step - loss: 0.0727 - accuracy: 0.9771 - val_loss: 0.3836 - val_accuracy: 0.9020\n",
      "Epoch 15/20\n",
      "43/43 [==============================] - 23s 532ms/step - loss: 0.0723 - accuracy: 0.9760 - val_loss: 0.3526 - val_accuracy: 0.9063\n",
      "Epoch 16/20\n",
      "43/43 [==============================] - 22s 515ms/step - loss: 0.0680 - accuracy: 0.9767 - val_loss: 0.3823 - val_accuracy: 0.8932\n",
      "Epoch 17/20\n",
      "43/43 [==============================] - 21s 477ms/step - loss: 0.0650 - accuracy: 0.9771 - val_loss: 0.5295 - val_accuracy: 0.8638\n",
      "Epoch 18/20\n",
      "43/43 [==============================] - 22s 518ms/step - loss: 0.0691 - accuracy: 0.9757 - val_loss: 0.4711 - val_accuracy: 0.8867\n",
      "Epoch 19/20\n",
      "43/43 [==============================] - 22s 505ms/step - loss: 0.0599 - accuracy: 0.9807 - val_loss: 0.4123 - val_accuracy: 0.8922\n",
      "Epoch 20/20\n",
      "43/43 [==============================] - 22s 516ms/step - loss: 0.0546 - accuracy: 0.9822 - val_loss: 0.4842 - val_accuracy: 0.8802\n"
     ]
    }
   ],
   "source": [
    "\n",
    "history = model.fit(train_images,\n",
    "                    epochs= 20,\n",
    "                    validation_data=validation_images,\n",
    "                    callbacks=[check_point_cb])"
   ],
   "metadata": {
    "collapsed": false,
    "pycharm": {
     "name": "#%%\n"
    }
   }
  },
  {
   "cell_type": "code",
   "execution_count": 110,
   "outputs": [
    {
     "data": {
      "text/plain": "<Figure size 640x480 with 1 Axes>",
      "image/png": "[encoded data removed]"
     },
     "metadata": {},
     "output_type": "display_data"
    }
   ],
   "source": [
    "plt.plot(range(20), history.history['accuracy'])\n",
    "plt.plot(range(20), history.history['val_accuracy'],'--')\n",
    "plt.show()"
   ],
   "metadata": {
    "collapsed": false,
    "pycharm": {
     "name": "#%%\n"
    }
   }
  },
  {
   "cell_type": "code",
   "execution_count": null,
   "outputs": [],
   "source": [],
   "metadata": {
    "collapsed": false,
    "pycharm": {
     "name": "#%%\n"
    }
   }
  }
 ],
 "metadata": {
  "kernelspec": {
   "display_name": "Python 3",
   "language": "python",
   "name": "python3"
  },
  "language_info": {
   "codemirror_mode": {
    "name": "ipython",
    "version": 2
   },
   "file_extension": ".py",
   "mimetype": "text/x-python",
   "name": "python",
   "nbconvert_exporter": "python",
   "pygments_lexer": "ipython2",
   "version": "2.7.6"
  }
 },
 "nbformat": 4,
 "nbformat_minor": 0
}